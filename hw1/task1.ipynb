{
 "cells": [
  {
   "cell_type": "code",
   "execution_count": 1,
   "id": "342fb749-93dd-4646-a055-adf5d1109dc3",
   "metadata": {},
   "outputs": [],
   "source": [
    "# Создание кортежа с элементами разных типов\n",
    "data = (123, \"value\", [1, 2, 3], {\"key\": \"value\"})"
   ]
  },
  {
   "cell_type": "code",
   "execution_count": 2,
   "id": "51d5efac-a0f1-48b2-8e8f-2452213d687f",
   "metadata": {},
   "outputs": [],
   "source": [
    "# Распаковка первых трёх элементов\n",
    "number, string, numbers_list = data[:3]"
   ]
  },
  {
   "cell_type": "code",
   "execution_count": 3,
   "id": "bafb1407-fef1-4516-a957-763fb237b389",
   "metadata": {},
   "outputs": [
    {
     "name": "stdout",
     "output_type": "stream",
     "text": [
      "Число: 123\n",
      "Строка: value\n",
      "Список: [1, 2, 3]\n"
     ]
    }
   ],
   "source": [
    "# Вывод результатов\n",
    "print(\"Число:\", number)\n",
    "print(\"Строка:\", string)\n",
    "print(\"Список:\", numbers_list)"
   ]
  },
  {
   "cell_type": "markdown",
   "id": "1cc6b4c9-fa98-42eb-83c4-38df291fd40f",
   "metadata": {},
   "source": [
    "Создание кортежа — это операция O(1), так как количество элементов фиксировано.\n",
    "Распаковка первых трёх элементов через data[:3] — это операция O(N), где N — количество элементов, которые мы копируем (в данном случае N = 3). Срез создает новый кортеж, поэтому сложность зависит от длины среза.\n",
    "Присваивание переменным — также O(N), так как происходит распаковка N элементов.\n",
    "Итоговая сложность: O(N) — линейная по количеству распаковываемых элементов."
   ]
  }
 ],
 "metadata": {
  "kernelspec": {
   "display_name": "Python 3 (ipykernel)",
   "language": "python",
   "name": "python3"
  },
  "language_info": {
   "codemirror_mode": {
    "name": "ipython",
    "version": 3
   },
   "file_extension": ".py",
   "mimetype": "text/x-python",
   "name": "python",
   "nbconvert_exporter": "python",
   "pygments_lexer": "ipython3",
   "version": "3.13.5"
  }
 },
 "nbformat": 4,
 "nbformat_minor": 5
}
